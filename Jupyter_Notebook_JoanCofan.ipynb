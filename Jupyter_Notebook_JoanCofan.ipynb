{
 "cells": [
  {
   "cell_type": "markdown",
   "metadata": {},
   "source": [
    "<center>\n",
    "    <img src=\"https://cf-courses-data.s3.us.cloud-object-storage.appdomain.cloud/IBMDeveloperSkillsNetwork-DS0105EN-SkillsNetwork/labs/Module2/images/SN_web_lightmode.png\" width=\"300\" alt=\"cognitiveclass.ai logo\">\n",
    "</center>\n"
   ]
  },
  {
   "cell_type": "markdown",
   "metadata": {},
   "source": [
    "#### Add your code below following the instructions given in the course\n"
   ]
  },
  {
   "cell_type": "markdown",
   "metadata": {},
   "source": [
    "# Data Science Tools and Ecosystem\n",
    " \n",
    "## In this notebook, Data Science Tools and Ecosystem are summarized.\n",
    " \n",
    "Some of the popular languages that Data Scientists use are:\n",
    " \n",
    "- Python\n",
    "- Julia\n",
    "- R\n",
    "- Java\n",
    "- Swift\n",
    "- C/C++\n",
    "- SQL\n",
    " \n",
    "Some of the commonly used libraries used by Data Scientists include:\n",
    "- TensorFlow.\n",
    "- NumPy.\n",
    "- SciPy.\n",
    "- Pandas.\n",
    "- Matplotlib.\n",
    "- Keras.\n",
    "- SciKit-Learn.\n",
    "- PyTorch\n",
    "\n",
    "| Data Science Tools |\n",
    "| ------ |\n",
    "| R Studio |\n",
    "|Jupyter Notebook|\n",
    "|Visual Studio Code|\n",
    "\n",
    "\n",
    "**Objectives:**\n",
    "* List popular languages for Data Science\n",
    "* Cloud based tools for data science\n",
    "* Packages, API's, Datasets and Models\n",
    "* Jupyter Notebooks and JupyterLabs\n",
    "* R Studio and GitHub"
   ]
  },
  {
   "cell_type": "markdown",
   "metadata": {},
   "source": [
    "### Below are a few examples of evaluating arithmetic expressions in Python."
   ]
  },
  {
   "cell_type": "code",
   "execution_count": 2,
   "metadata": {},
   "outputs": [
    {
     "name": "stdout",
     "output_type": "stream",
     "text": [
      "2\n",
      "12\n",
      "35\n"
     ]
    }
   ],
   "source": [
    "### Below are a few examples of evaluating arithmetic expressions in Python.\n",
    "\n",
    "result1 = 7-5\n",
    "print (result1)\n",
    "\n",
    "result2 = 7+5\n",
    "print (result2)\n",
    "\n",
    "result3 = 7*5\n",
    "print (result3)"
   ]
  },
  {
   "cell_type": "markdown",
   "metadata": {},
   "source": [
    "# This a simple arithmetic expression to mutiply then add integers."
   ]
  },
  {
   "cell_type": "code",
   "execution_count": 5,
   "metadata": {},
   "outputs": [
    {
     "name": "stdout",
     "output_type": "stream",
     "text": [
      "17\n"
     ]
    }
   ],
   "source": [
    "result = (3*4)+5\n",
    "print (result)"
   ]
  },
  {
   "cell_type": "markdown",
   "metadata": {},
   "source": [
    "# This will convert 200 minutes to hours by diving by 60"
   ]
  },
  {
   "cell_type": "code",
   "execution_count": 6,
   "metadata": {},
   "outputs": [
    {
     "name": "stdout",
     "output_type": "stream",
     "text": [
      "3.3333333333333335\n"
     ]
    }
   ],
   "source": [
    "minutes = 200\n",
    "hours=minutes/60\n",
    "print(hours)"
   ]
  },
  {
   "cell_type": "markdown",
   "metadata": {},
   "source": [
    "## Author\n",
    "Joan Cofan"
   ]
  },
  {
   "cell_type": "code",
   "execution_count": null,
   "metadata": {},
   "outputs": [],
   "source": []
  }
 ],
 "metadata": {
  "kernelspec": {
   "display_name": "Python 3 (ipykernel)",
   "language": "python",
   "name": "python3"
  },
  "language_info": {
   "codemirror_mode": {
    "name": "ipython",
    "version": 3
   },
   "file_extension": ".py",
   "mimetype": "text/x-python",
   "name": "python",
   "nbconvert_exporter": "python",
   "pygments_lexer": "ipython3",
   "version": "3.11.5"
  }
 },
 "nbformat": 4,
 "nbformat_minor": 4
}
